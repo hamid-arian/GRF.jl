{
 "cells": [
  {
   "cell_type": "code",
   "execution_count": null,
   "metadata": {},
   "outputs": [],
   "source": [
    "import Pkg\n",
    "Pkg.add(\"ConcurrentUtilities\")\n",
    "\n",
    "using Pkg\n",
    "Pkg.add(\"DataFrames\")"
   ]
  },
  {
   "cell_type": "code",
   "execution_count": 2,
   "metadata": {},
   "outputs": [
    {
     "ename": "LoadError",
     "evalue": "LoadError: invalid method definition in Main: function Base.get must be explicitly imported to be extended\nin expression starting at g:\\My Drive\\code\\GRF\\grf_julia\\data\\Data.jl:131",
     "output_type": "error",
     "traceback": [
      "LoadError: invalid method definition in Main: function Base.get must be explicitly imported to be extended\nin expression starting at g:\\My Drive\\code\\GRF\\grf_julia\\data\\Data.jl:131",
      "",
      "Stacktrace:",
      " [1] top-level scope",
      "   @ none:0",
      " [2] top-level scope",
      "   @ g:\\My Drive\\code\\GRF\\grf_julia\\data\\Data.jl:131",
      " [3] include(fname::String)",
      "   @ Base.MainInclude .\\client.jl:489",
      " [4] top-level scope",
      "   @ In[2]:2"
     ]
    }
   ],
   "source": [
    "# Import necessary modules\n",
    "include(\"data/Data.jl\")\n",
    "include(\"data/utility.jl\")\n",
    "include(\"forest/Forest.jl\")\n",
    "include(\"forest/ForestOptions.jl\")\n",
    "include(\"forest/ForestPredictor.jl\")\n",
    "include(\"forest/ForestPredictors.jl\")\n",
    "include(\"forest/ForestTrainer.jl\")\n",
    "include(\"forest/ForestTrainers.jl\")\n",
    "include(\"prediction/LocalLinearPredictionStrategy.jl\")\n",
    "include(\"relabelling/LLRegressionRelabelingStrategy.jl\")\n",
    "include(\"sampling/RandomSampler.jl\")\n",
    "include(\"sampling/SamplingOptions.jl\")\n",
    "include(\"splitting/MultiRegressionSplittingRule.jl\")\n",
    "include(\"splitting/RegressionSplittingRule.jl\")\n",
    "include(\"tree/Tree.jl\")\n",
    "include(\"tree/TreeOptions.jl\")\n",
    "include(\"tree/TreeTrainer.jl\")"
   ]
  },
  {
   "cell_type": "code",
   "execution_count": null,
   "metadata": {},
   "outputs": [],
   "source": [
    "function main()\n",
    "    # Load data\n",
    "    # 从excel中导入数据\n",
    "    using Pkg\n",
    "   Pkg.add(\"XLSX\")\n",
    "\n",
    "   using XLSX\n",
    "   storage,dataptr = XLSX.utility.loadData(\"C:\\\\Users\\\\86139\\\\Desktop\", \"Sheet1\")  \n",
    "\n",
    "   #创造data对象\n",
    "   numRows=dataptr[0];\n",
    "   numCols=dataptr[1]\n",
    "   Data(storage, numRows, numCols)\n",
    "\n",
    "   #分类,按照特征 ,#根据影响大小排序,samples一个随机整数，\n",
    "\n",
    "   # 参数训练    根据给定的策略对特定的样本进行重新标记Used to control regression remarking\n",
    "   struct LLRegressionRelabelingStrategy\n",
    "    splitlambda::Float64#分裂参数\n",
    "    weightpenalty::Bool#\n",
    "    overallbeta::Vector{Int}#\n",
    "    llsplitcutoff::Int#\n",
    "    llsplitvariables#\n",
    "   end\n",
    "   relabeling_strategy = LLRegressionRelabelingStrategy(0.1,True,[0],10,storages)# 实例化结构体 parameter\n",
    "    \n",
    "\n",
    "   using DataFrames\n",
    "   feature_columns = [\n",
    "    :time, :highest_temperature, :lowest_temperature, :air_quality, :air_level\n",
    "   ]\n",
    "\n",
    "   database = DataFrame(storages, feature_columns)\n",
    "\n",
    "\n",
    "  #每一列的只出现一次的数值的个数The number of values in each column that occur only once\n",
    "  maxnumuniquevalues = maximum([nunique(col) for col in eachcol(database) if eltype(col) <: Number])\n",
    "\n",
    "  # 分组规则\n",
    "  struct RegressionSplittingRule\n",
    "    maxnumuniquevalues::Int\n",
    "    alpha::Float64\n",
    "    imbalancepenalty::Float64\n",
    "  end\n",
    "\n",
    "    splitting_rule = RegressionSplittingRule(maxnumuniquevalues, 0.05, 0.01)# 实例化结构体，Instantiate the structure\n",
    "    \n",
    "    # Julia 中的索引从 1 开始，而不是从 0 开始，预测结果的策略\n",
    "    #A local linear prediction strategy is defined and a series of indexes with specific features listed in the database are calculated.\n",
    "    linearcorrectionindices = [findfirst(isequal(c), names(database)) for c in feature_columns]\n",
    "\n",
    "    struct LocalLinearPredictionStrategy\n",
    "        lambdas::Vector{Float64}\n",
    "    end\n",
    "\n",
    "    lambdas = 10 .^ range(-4, stop=2, length=10)\n",
    "    predictionstrategy = LocalLinearPredictionStrategy(lambdas)# 实例化策略\n",
    "    \n",
    "   #构建决策树和森林，并训练创建 ForestTrainer 实例\n",
    "    forest_trainer = ForestTrainer(relabeling_strategy, splitting_rule, predictionstrategy)\n",
    "    ForestTrainer.train(forest_trainer,Data,getTrees(options))\n",
    "  \n",
    "    # Evaluate the model\n",
    "    evaluation = evaluate_model(model, data)  \n",
    "\n",
    "    # Print or return the evaluation results\n",
    "    println(\"Model Evaluation: \", evaluation) \n",
    "    return evaluation\n",
    "end"
   ]
  },
  {
   "cell_type": "code",
   "execution_count": null,
   "metadata": {},
   "outputs": [],
   "source": [
    "# Call the main function\n",
    "main()"
   ]
  }
 ],
 "metadata": {
  "kernelspec": {
   "display_name": "Julia 1.10.0",
   "language": "julia",
   "name": "julia-1.10"
  },
  "language_info": {
   "file_extension": ".jl",
   "mimetype": "application/julia",
   "name": "julia",
   "version": "1.10.0"
  }
 },
 "nbformat": 4,
 "nbformat_minor": 2
}
